{
 "cells": [
  {
   "cell_type": "markdown",
   "id": "14a43d66",
   "metadata": {},
   "source": [
    "# **Netflix Recommendation System**\n",
    "## (Content-Based Filtering)"
   ]
  },
  {
   "cell_type": "code",
   "execution_count": 1,
   "id": "3ee13b49-170c-4de6-886b-8661aa46a50a",
   "metadata": {
    "scrolled": true
   },
   "outputs": [
    {
     "data": {
      "text/html": [
       "<script>jQuery(function() {if (jQuery(\"body.notebook_app\").length == 0) { jQuery(\".input_area\").toggle(); jQuery(\".prompt\").toggle();}});</script>"
      ]
     },
     "metadata": {},
     "output_type": "display_data"
    },
    {
     "data": {
      "text/html": [
       "<button onclick=\"jQuery('.input_area').toggle(); jQuery('.prompt').toggle();\">TOGGLE TO SEE CODES</button>"
      ]
     },
     "metadata": {},
     "output_type": "display_data"
    }
   ],
   "source": [
    "import IPython.core.display as di\n",
    "\n",
    "# This line will hide code by default when the notebook is exported as HTML\n",
    "di.display_html('<script>jQuery(function() {if (jQuery(\"body.notebook_app\").length == 0) { jQuery(\".input_area\").toggle(); jQuery(\".prompt\").toggle();}});</script>', raw=True)\n",
    "\n",
    "# This line will add a button to toggle visibility of code blocks, for use with the HTML export version\n",
    "di.display_html('''<button onclick=\"jQuery('.input_area').toggle(); jQuery('.prompt').toggle();\">TOGGLE TO SEE CODES</button>''', raw=True)"
   ]
  },
  {
   "cell_type": "code",
   "execution_count": 2,
   "id": "9d8f5125-18dc-4e26-ac45-3904fc3e3eea",
   "metadata": {},
   "outputs": [],
   "source": [
    "#Imports\n",
    "import numpy as np\n",
    "import pandas as pd\n",
    "\n",
    "#For linear_kernel\n",
    "from sklearn.metrics.pairwise import linear_kernel\n",
    "\n",
    "# Import CountVectorizer for count matrix\n",
    "from sklearn.feature_extraction.text import CountVectorizer\n",
    "\n",
    "import warnings\n",
    "warnings.filterwarnings(\"ignore\")"
   ]
  },
  {
   "cell_type": "code",
   "execution_count": 3,
   "id": "8c578b8e",
   "metadata": {},
   "outputs": [],
   "source": [
    "#Read data from CSV file\n",
    "nf = pd.read_csv('netflix_titles.csv')\n",
    "# nf\n",
    "\n",
    "nf = nf.fillna('')\n",
    "nf_tv =  nf.loc[nf['type']=='TV Show', :]\n",
    "nf_movie =  nf.loc[nf['type']=='Movie', :]\n",
    "#pd.options.mode.chained_assignment = None  # default='warn'"
   ]
  },
  {
   "cell_type": "markdown",
   "id": "e6aa5a04",
   "metadata": {},
   "source": [
    "### \n",
    "## MOVIE RECOMMENDATION SYSTEM"
   ]
  },
  {
   "cell_type": "markdown",
   "id": "6f04ed2e",
   "metadata": {},
   "source": [
    "## `1. SYSTEM BASED ON DESCRIPTION ONLY` \n",
    "### `Using TF-IDF: importance of words, more precise numbers`"
   ]
  },
  {
   "cell_type": "code",
   "execution_count": 4,
   "id": "eab8d765-c1f9-4b59-8e9d-2665c54065c7",
   "metadata": {},
   "outputs": [],
   "source": [
    "##### `Key terms:`\n",
    "##### `- Term Frequency (TF): `\n",
    "#####  + The number of times a word appears in a document divded by the total number of words in the document. \n",
    "#####  + Every document has its own term frequency.\n",
    "##### `- Inverse Data Frequency (IDF): `\n",
    "#####  + The log of the number of documents divided by the number of documents that contain the word w. \n",
    "#####  + Inverse data frequency determines the weight of rare words across all\n",
    "\n",
    "##### `Steps:`\n",
    "##### 1. Define a TF-IDF Vectorizer Object. Remove all english stop words such as 'the', 'a'\n",
    "##### 2. Construct the required TF-IDF matrix by fitting and transforming the data\n",
    "##### 3. Compute the cosine similarity matrix\n",
    "##### 4. Construct a reverse map of indices and movie titles"
   ]
  },
  {
   "cell_type": "code",
   "execution_count": 5,
   "id": "ea62c148-2cd9-4df2-a4af-2addb6d800da",
   "metadata": {},
   "outputs": [],
   "source": [
    "from sklearn.feature_extraction.text import TfidfVectorizer\n",
    "\n",
    "# 1\n",
    "tfidf = TfidfVectorizer(stop_words='english')\n",
    "\n",
    "# 2\n",
    "tfidf_matrix = tfidf.fit_transform(nf_movie['description'])\n",
    "# tfidf_matrix.shape\n",
    "\n",
    "# 3\n",
    "from sklearn.metrics.pairwise import linear_kernel\n",
    "cosine_sim = linear_kernel(tfidf_matrix, tfidf_matrix)\n",
    "\n",
    "indices = pd.Series(nf_movie.index, index=nf_movie['title']).drop_duplicates() #Construct a reverse map of indices and movie titles\n",
    "# indices\n",
    "\n",
    "def get_recommendations(title, cosine_sim=cosine_sim):\n",
    "    idx = indices.get(title.title())\n",
    "    if idx is None:\n",
    "        return \"Movie is not found.\"\n",
    "\n",
    "    # Get the pairwsie similarity scores of all movies with that movie\n",
    "    sim_scores = list(enumerate(cosine_sim[idx]))\n",
    "\n",
    "    # Sort the movies based on the similarity scores\n",
    "    sim_scores = sorted(sim_scores, key=lambda x: x[1], reverse=True)\n",
    "\n",
    "    # Get the scores of the 10 most similar movies\n",
    "    sim_scores = sim_scores[1:11]\n",
    "\n",
    "    # Get the movie indices\n",
    "    movie_indices = [i[0] for i in sim_scores]\n",
    "\n",
    "    # Return the top 10 most similar movies\n",
    "    return nf_movie['title'].iloc[movie_indices]"
   ]
  },
  {
   "attachments": {},
   "cell_type": "markdown",
   "id": "90d77e33-0d25-4e82-b802-e59341cacb67",
   "metadata": {},
   "source": [
    "### `1.1 Test invalid input: Recommendation for movie \"\"`\n",
    "#### *Empty string movie not found*"
   ]
  },
  {
   "cell_type": "code",
   "execution_count": 6,
   "id": "e92315b5-3bf9-407b-b8e2-ee944ff141e1",
   "metadata": {},
   "outputs": [
    {
     "data": {
      "text/plain": [
       "'Movie is not found.'"
      ]
     },
     "execution_count": 6,
     "metadata": {},
     "output_type": "execute_result"
    }
   ],
   "source": [
    "get_recommendations('')"
   ]
  },
  {
   "attachments": {},
   "cell_type": "markdown",
   "id": "56e8d7bd-e4a5-4582-aefa-7b83252f3b9a",
   "metadata": {},
   "source": [
    "### \n",
    "### `1.2. Test case-sensitive: Recommendation for movie \"The ConjUring\"`\n",
    "#### *Top 10 Movies Recommended*"
   ]
  },
  {
   "cell_type": "code",
   "execution_count": 7,
   "id": "44897dcf",
   "metadata": {},
   "outputs": [
    {
     "data": {
      "text/plain": [
       "1964                      High & Low The Movie\n",
       "1965       High & Low The Movie 2 / End of Sky\n",
       "1963    DTC Yukemuri Junjo Hen From High & Low\n",
       "5229                               Bomb Scared\n",
       "192                                 C Kkompany\n",
       "2209                                     Nimbe\n",
       "7745                        Pizza, birra, faso\n",
       "5303                                Manoranjan\n",
       "926                         Au coeur des gangs\n",
       "1609                   Angela's Christmas Wish\n",
       "Name: title, dtype: object"
      ]
     },
     "execution_count": 7,
     "metadata": {},
     "output_type": "execute_result"
    }
   ],
   "source": [
    "get_recommendations('The ConjUring')"
   ]
  },
  {
   "attachments": {},
   "cell_type": "markdown",
   "id": "0da1e004-c24a-408a-b64a-28ddac83ec68",
   "metadata": {},
   "source": [
    "### \n",
    "### `1.3. Test non-letter characters: Recommendation for movie \"#Alive\"`\n",
    "#### *Top 10 Movies Recommended*"
   ]
  },
  {
   "cell_type": "code",
   "execution_count": 8,
   "id": "0e859f8c",
   "metadata": {},
   "outputs": [
    {
     "data": {
      "text/plain": [
       "427                                    Wannabe Courageous\n",
       "4451                                     Mumbai Meri Jaan\n",
       "3147                                              Talaash\n",
       "206                             LSD: Love, Sex Aur Dhokha\n",
       "1815    The Magic School Bus Rides Again The Frizz Con...\n",
       "4719                                         7 Khoon Maaf\n",
       "1870                              My Step Dad: The Hippie\n",
       "7703                                           Paper Year\n",
       "3532                                Ee Nagaraniki Emaindi\n",
       "745                                        Until Midnight\n",
       "Name: title, dtype: object"
      ]
     },
     "execution_count": 8,
     "metadata": {},
     "output_type": "execute_result"
    }
   ],
   "source": [
    "get_recommendations('#Alive')"
   ]
  },
  {
   "cell_type": "markdown",
   "id": "4a918cf1",
   "metadata": {},
   "source": [
    "\n"
   ]
  },
  {
   "cell_type": "markdown",
   "id": "9cc63bda",
   "metadata": {},
   "source": [
    "## \n",
    "## `2. BASED ON MULTIPLE METRICS`\n",
    "### `Use CountVectorization: title, cast, director, genre, description`"
   ]
  },
  {
   "cell_type": "code",
   "execution_count": 9,
   "id": "bc730baa-da67-4e80-9723-d3cad60288fd",
   "metadata": {},
   "outputs": [],
   "source": [
    "#### `Steps:`\n",
    "#### 1. Feature Selection: Define the selected features: 'title', 'director', 'cast', 'listed_in', and 'description'.\n",
    "#### 2. Combined Feature Creation\n",
    "#### 3. Count Matrix Creation: Import CountVectorizer from ScikitLearn.\n",
    "####    + Instantiate CountVectorizer with stop_words set to 'english'.\n",
    "####    + Create the count matrix using fit_transform on 'combined_features'.\n",
    "#### 4. Cosine Similarity Calculation: determine how similar each item is to every other item\n",
    "####    + Compute the cosine similarity matrix based on the count_matrix.\n",
    "####    + 0 means no similarity\n",
    "####    + 1 means that both the items are 100% similar.\n",
    "#### 5. Reverse Index Mapping: map indices back to movie titles when recommending movies\n",
    "####    + Create a Series of indices mapped to movie titles.\n",
    "####    + Drop duplicate indices to establish a unique mapping."
   ]
  },
  {
   "cell_type": "code",
   "execution_count": 10,
   "id": "34b53771",
   "metadata": {},
   "outputs": [],
   "source": [
    "def recommendations_movie(title, cosine_sim=cosine_sim):\n",
    "    idx = indices.get(title.title())\n",
    "    if idx is None:\n",
    "        return \"Movie not found.\"\n",
    "\n",
    "    # Get the pairwsie similarity scores of all movies with that movie\n",
    "    sim_scores = list(enumerate(cosine_sim[idx]))\n",
    "\n",
    "    # Sort the movies based on the similarity scores\n",
    "    sim_scores = sorted(sim_scores, key=lambda x: x[1], reverse=True)\n",
    "\n",
    "    # Get the scores of the 10 most similar movies\n",
    "    sim_scores = sim_scores[1:11]\n",
    "\n",
    "    # Get the movie indices\n",
    "    movie_indices = [i[0] for i in sim_scores]\n",
    "\n",
    "    # Return the top 10 most similar movies\n",
    "    return nf_movie['title'].iloc[movie_indices]"
   ]
  },
  {
   "cell_type": "code",
   "execution_count": 11,
   "id": "79b2ff8d-1c31-4045-88e9-89f4d46ade41",
   "metadata": {},
   "outputs": [],
   "source": [
    "# 1\n",
    "features=['title', 'director','cast','listed_in', 'description']\n",
    "df_features = nf_movie[features]\n",
    "\n",
    "# 2\n",
    "def combined_features(x):\n",
    "    return x['title'] + ' ' + x['director'] + ' ' + x['cast'] + ' ' +x['listed_in']+' '+ x['description']\n",
    "df_features['combined_features'] = df_features.apply(lambda x: ' '.join(x), axis=1)\n",
    "\n",
    "# 3\n",
    "from sklearn.feature_extraction.text import CountVectorizer\n",
    "\n",
    "count = CountVectorizer(stop_words='english')\n",
    "count_matrix = count.fit_transform(df_features['combined_features'])\n",
    "\n",
    "# 4\n",
    "from sklearn.metrics.pairwise import cosine_similarity\n",
    "cosine_sim2 = cosine_similarity(count_matrix)\n",
    "\n",
    "# 5\n",
    "df_features = df_features.reset_index()\n",
    "indices = pd.Series(df_features.index, index=df_features['title']).drop_duplicates()\n",
    "# indices"
   ]
  },
  {
   "attachments": {},
   "cell_type": "markdown",
   "id": "8dc94f56-4791-4724-8bbd-74809f6ca468",
   "metadata": {},
   "source": [
    "### `2.1. Recommendation for movie: \"The Conjuring\"`\n",
    "#### *Better Recommendation: other movies in the same genre*"
   ]
  },
  {
   "cell_type": "code",
   "execution_count": 12,
   "id": "4f4b0283",
   "metadata": {},
   "outputs": [
    {
     "data": {
      "text/plain": [
       "1284                                  The Conjuring 2\n",
       "1118                                        Insidious\n",
       "3450                                In the Tall Grass\n",
       "5903                                            Creep\n",
       "5359                                  Raising the Bar\n",
       "7168                                           Kanika\n",
       "5737    I Am the Pretty Thing That Lives in the House\n",
       "4872                                     Family Blood\n",
       "5110                                          Creep 2\n",
       "5042                                       The Ritual\n",
       "Name: title, dtype: object"
      ]
     },
     "execution_count": 12,
     "metadata": {},
     "output_type": "execute_result"
    }
   ],
   "source": [
    "recommendations_movie('The Conjuring', cosine_sim2)"
   ]
  },
  {
   "attachments": {},
   "cell_type": "markdown",
   "id": "bbe661a6-9dcd-492f-bb7a-37d55fdb1f0d",
   "metadata": {},
   "source": [
    "### \n",
    "### `2.2. Recommendation for movie: \"#Alive\"` \n",
    "#### *Better Recommendations: other movies with supernatural/horror factor* "
   ]
  },
  {
   "cell_type": "code",
   "execution_count": 13,
   "id": "fa966626",
   "metadata": {},
   "outputs": [
    {
     "data": {
      "text/plain": [
       "4211               Nang Nak\n",
       "5317        Berlin Syndrome\n",
       "2729                   Kaal\n",
       "4474           Santo Cachón\n",
       "2589                 Psycho\n",
       "7168                 Kanika\n",
       "7280                 Lechmi\n",
       "1783    The Day of the Lord\n",
       "1898            The Binding\n",
       "3698           Inhuman Kiss\n",
       "Name: title, dtype: object"
      ]
     },
     "execution_count": 13,
     "metadata": {},
     "output_type": "execute_result"
    }
   ],
   "source": [
    "recommendations_movie('#Alive', cosine_sim2)"
   ]
  },
  {
   "attachments": {},
   "cell_type": "markdown",
   "id": "24dd771d-d740-46df-8353-6cf5808e92d8",
   "metadata": {},
   "source": [
    "### \n",
    "### `2.3. Recommendation for movie: \"High & Low The Movie\"`\n",
    "#### *Better Recommendations: other seasons of this movie* "
   ]
  },
  {
   "cell_type": "code",
   "execution_count": 14,
   "id": "1ae0d750",
   "metadata": {},
   "outputs": [
    {
     "data": {
      "text/plain": [
       "1969                                  Road To High & Low\n",
       "1965                 High & Low The Movie 2 / End of Sky\n",
       "1966              High & Low The Movie 3 / Final Mission\n",
       "1968                                High & Low The Worst\n",
       "1967                             High & Low The Red Rain\n",
       "61      Naruto the Movie 2: Legend of the Stone of Gelel\n",
       "56              Naruto Shippuden the Movie: Blood Prison\n",
       "3842                           Gatao 2: Rise of the King\n",
       "4559                                              Anjaan\n",
       "5293        Berserk: The Golden Age Arc III - The Advent\n",
       "Name: title, dtype: object"
      ]
     },
     "execution_count": 14,
     "metadata": {},
     "output_type": "execute_result"
    }
   ],
   "source": [
    "recommendations_movie('High & Low The Movie', cosine_sim2)"
   ]
  },
  {
   "cell_type": "markdown",
   "id": "de030e83",
   "metadata": {},
   "source": [
    " ## \n",
    " ## \n",
    " ## TV SHOW RECOMMENDATION SYSTEM\n",
    " ### Use CountVectorization: title, cast, director, genre, description"
   ]
  },
  {
   "cell_type": "code",
   "execution_count": 15,
   "id": "4f4e6c11-528d-4cf7-b4b0-32fb8a7d5a3c",
   "metadata": {},
   "outputs": [],
   "source": [
    "# 1\n",
    "features=['title', 'director','cast','listed_in', 'description']\n",
    "df_features = nf_tv[features]\n",
    "\n",
    "# 2\n",
    "def combined_features(x):\n",
    "    return x['title'] + ' ' + x['director'] + ' ' + x['cast'] + ' ' +x['listed_in']+' '+ x['description']\n",
    "df_features['combined_features'] = df_features.apply(lambda x: ' '.join(x), axis=1)\n",
    "\n",
    "# 3\n",
    "from sklearn.feature_extraction.text import CountVectorizer\n",
    "\n",
    "count = CountVectorizer(stop_words='english')\n",
    "count_matrix = count.fit_transform(df_features['combined_features'])\n",
    "\n",
    "# 4\n",
    "from sklearn.metrics.pairwise import cosine_similarity\n",
    "cosine_sim2_tv = cosine_similarity(count_matrix)\n",
    "\n",
    "# 5\n",
    "df_features = df_features.reset_index()\n",
    "indices = pd.Series(df_features.index, index=df_features['title']).drop_duplicates()\n",
    "# indices\n",
    "\n",
    "\n",
    "def recommendations_tv(title, cosine_sim=cosine_sim2_tv):\n",
    "    idx = indices.get(title.title())\n",
    "    if idx is None:\n",
    "        return \"TV Show not found.\"\n",
    "\n",
    "    sim_scores = list(enumerate(cosine_sim[idx]))\n",
    "\n",
    "    sim_scores = sorted(sim_scores, key=lambda x: x[1], reverse=True)\n",
    "\n",
    "    sim_scores = sim_scores[1:11]\n",
    "\n",
    "    tv_indices = [i[0] for i in sim_scores]\n",
    "\n",
    "    return nf_tv['title'].iloc[tv_indices]"
   ]
  },
  {
   "attachments": {},
   "cell_type": "markdown",
   "id": "a91b4259-a35f-452e-919f-2e52f9bc5041",
   "metadata": {},
   "source": [
    "### `1. Recommendation for show: \"Kingdom\"`\n",
    "#### *Results: Other Korean shows* "
   ]
  },
  {
   "cell_type": "code",
   "execution_count": 16,
   "id": "79f2cbc1-a297-4482-9bb0-eff9f0bd4538",
   "metadata": {},
   "outputs": [
    {
     "data": {
      "text/plain": [
       "2255                 Was It Love?\n",
       "2518                         Iris\n",
       "686             Hospital Playlist\n",
       "3270                   Inheritors\n",
       "2892                        Hyena\n",
       "2517            Boys Over Flowers\n",
       "2665    The King: Eternal Monarch\n",
       "3129         Crash Landing on You\n",
       "2349     It's Okay to Not Be Okay\n",
       "3928                      Persona\n",
       "Name: title, dtype: object"
      ]
     },
     "execution_count": 16,
     "metadata": {},
     "output_type": "execute_result"
    }
   ],
   "source": [
    "recommendations_tv('Kingdom', cosine_sim2_tv)"
   ]
  },
  {
   "attachments": {},
   "cell_type": "markdown",
   "id": "6a3a1ab9-d063-4b9e-8681-ca2b374cd7ad",
   "metadata": {},
   "source": [
    "### \n",
    "### `2. Recommendation for show: \"Stranger Things\"`\n",
    "#### *Results - similar genre* "
   ]
  },
  {
   "cell_type": "code",
   "execution_count": 17,
   "id": "e67574da",
   "metadata": {},
   "outputs": [
    {
     "data": {
      "text/plain": [
       "5200         Beyond Stranger Things\n",
       "2190           The Umbrella Academy\n",
       "2303                    Warrior Nun\n",
       "1127               Prank Encounters\n",
       "8803                    Zombie Dumb\n",
       "3187                    Nightflyers\n",
       "6167    Anjaan: Special Crimes Unit\n",
       "241                        Manifest\n",
       "532                          Scream\n",
       "880                         Haunted\n",
       "Name: title, dtype: object"
      ]
     },
     "execution_count": 17,
     "metadata": {},
     "output_type": "execute_result"
    }
   ],
   "source": [
    "recommendations_tv('Stranger Things', cosine_sim2_tv)"
   ]
  },
  {
   "cell_type": "code",
   "execution_count": 18,
   "id": "19b2d9d6-e2d4-4ba3-88f0-3c84696e60ac",
   "metadata": {},
   "outputs": [],
   "source": [
    "# *Using TF-IDF: TfidfConvertizer*\n",
    "\n",
    "\n",
    "# features=['title', 'director','cast','listed_in', 'description']\n",
    "# df_features_tv = nf_tv[features]\n",
    "\n",
    "# def combined_features(x):\n",
    "#     return x['title'] + ' ' + x['director'] + ' ' + x['cast'] + ' ' +x['listed_in']+' '+ x['description']\n",
    "\n",
    "# df_features_tv['combined_features'] = df_features_tv.apply(combined_features, axis=1)\n",
    "\n",
    "# tfidf = TfidfVectorizer(stop_words='english')\n",
    "# tfidf_matrix_tv = tfidf.fit_transform(df_features_tv['combined_features'])\n",
    "\n",
    "# cosine_sim2_tv = linear_kernel(tfidf_matrix_tv, tfidf_matrix_tv)\n",
    "\n",
    "# df_features_tv = df_features_tv.reset_index()\n",
    "# indices = pd.Series(df_features_tv.index, index=df_features_tv['title']).drop_duplicates()\n",
    "\n",
    "\n",
    "# def recommendations_tv(title, cosine_sim=cosine_sim):\n",
    "#     idx = indices.get(title.title())\n",
    "#     if idx is None:\n",
    "#         return \"TV show not found.\"\n",
    "\n",
    "#     # Get the pairwsie similarity scores of all movies with that movie\n",
    "#     sim_scores = list(enumerate(cosine_sim[idx]))\n",
    "\n",
    "#     # Sort the movies based on the similarity scores\n",
    "#     sim_scores = sorted(sim_scores, key=lambda x: x[1], reverse=True)\n",
    "\n",
    "#     # Get the scores of the 10 most similar movies\n",
    "#     sim_scores = sim_scores[1:11]\n",
    "\n",
    "#     # Get the movie indices\n",
    "#     tv_indices = [i[0] for i in sim_scores]\n",
    "\n",
    "#     # Return the top 10 most similar movies\n",
    "#     return nf_tv['title'].iloc[tv_indices]"
   ]
  }
 ],
 "metadata": {
  "kernelspec": {
   "display_name": "Python 3 (ipykernel)",
   "language": "python",
   "name": "python3"
  },
  "language_info": {
   "codemirror_mode": {
    "name": "ipython",
    "version": 3
   },
   "file_extension": ".py",
   "mimetype": "text/x-python",
   "name": "python",
   "nbconvert_exporter": "python",
   "pygments_lexer": "ipython3",
   "version": "3.11.4"
  }
 },
 "nbformat": 4,
 "nbformat_minor": 5
}
